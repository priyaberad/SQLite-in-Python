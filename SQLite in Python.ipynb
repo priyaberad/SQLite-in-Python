{
 "cells": [
  {
   "cell_type": "markdown",
   "id": "65e2e6e8-2931-4288-b387-9c91e83a196c",
   "metadata": {},
   "source": [
    "# Import Required Libraries"
   ]
  },
  {
   "cell_type": "code",
   "execution_count": 37,
   "id": "17aa9877-8cda-4ce2-8590-8ae9d48e1aab",
   "metadata": {},
   "outputs": [],
   "source": [
    "import sqlite3\n",
    "import pandas as pd\n",
    "import seaborn as sns\n",
    "import matplotlib.pyplot as plt\n",
    "import warnings\n",
    "warnings.filterwarnings('ignore')"
   ]
  },
  {
   "cell_type": "markdown",
   "id": "e74590cb-14da-4a79-8c63-f0b2a125d571",
   "metadata": {},
   "source": [
    "# Create SQLite Database and Table"
   ]
  },
  {
   "cell_type": "code",
   "execution_count": 44,
   "id": "9c975746-49e1-424b-bfa5-be069f85252f",
   "metadata": {},
   "outputs": [],
   "source": [
    "conn=sqlite3.connect(\"Sales.db\")\n",
    "cur=conn.cursor()"
   ]
  },
  {
   "cell_type": "code",
   "execution_count": 46,
   "id": "2fee0dd7-c2ef-40ab-b66a-fb1e1956c82d",
   "metadata": {},
   "outputs": [],
   "source": [
    "cur.execute(\"\"\"CREATE TABLE if not exists Sales (\n",
    "    SaleDate DATE,\n",
    "    CustomerName VARCHAR(100) Not Null,\n",
    "    Product VARCHAR(50) Not Null,\n",
    "    Quantity INT Not Null,\n",
    "    UnitPrice INT Not Null,\n",
    "    TotalSale INT Not Null\n",
    ")\"\"\")\n",
    "\n",
    "conn.commit()"
   ]
  },
  {
   "cell_type": "markdown",
   "id": "18acd474-a9b6-4c43-90ce-ea2084e9ddee",
   "metadata": {},
   "source": [
    "# Insert Data into Table"
   ]
  },
  {
   "cell_type": "code",
   "execution_count": 57,
   "id": "55ccb0d1-f029-4f6b-bab2-be18e8d25c1a",
   "metadata": {},
   "outputs": [],
   "source": [
    "Sales = [('2025-07-01', 'John Smith', 'Laptop', 2, 900, 1800),\n",
    "('2025-07-01', 'Sarah Johnson', 'Keyboard', 5, 25, 125),\n",
    "('2025-07-02', 'Mike Davis', 'Monitor', 1, 200, 200),\n",
    "('2025-07-02', 'Emma Wilson', 'Mouse', 3, 15, 45),\n",
    "('2025-07-03', 'Chris Brown', 'Headphones', 2, 60, 120),\n",
    "('2025-07-03', 'Olivia Martin', 'Laptop', 1, 900, 900),\n",
    "('2025-07-04', 'David Lee', 'Webcam', 4, 40, 160),\n",
    "('2025-07-04', 'Sophia Taylor', 'Keyboard', 2, 25, 50),\n",
    "('2025-07-05', 'James Anderson', 'Monitor', 2, 200, 400),\n",
    "('2025-07-05', 'Ava Thomas', 'Mouse', 5, 15, 75)]\n",
    "\n",
    "cur.executemany(\"Insert into Sales (SaleDate, CustomerName, Product, Quantity, UnitPrice, TotalSale) values (?,?,?,?,?,?)\", Sales)\n",
    "\n",
    "conn.commit()"
   ]
  },
  {
   "cell_type": "markdown",
   "id": "14e7cb41-c27d-4787-84b6-1bcd6d07c6be",
   "metadata": {},
   "source": [
    "# Run SQL Query Inside Jupyter Notebook"
   ]
  },
  {
   "cell_type": "code",
   "execution_count": 60,
   "id": "eb568b82-a017-4fe1-a79a-b9729a8adc13",
   "metadata": {},
   "outputs": [
    {
     "data": {
      "text/html": [
       "<div>\n",
       "<style scoped>\n",
       "    .dataframe tbody tr th:only-of-type {\n",
       "        vertical-align: middle;\n",
       "    }\n",
       "\n",
       "    .dataframe tbody tr th {\n",
       "        vertical-align: top;\n",
       "    }\n",
       "\n",
       "    .dataframe thead th {\n",
       "        text-align: right;\n",
       "    }\n",
       "</style>\n",
       "<table border=\"1\" class=\"dataframe\">\n",
       "  <thead>\n",
       "    <tr style=\"text-align: right;\">\n",
       "      <th></th>\n",
       "      <th>SaleDate</th>\n",
       "      <th>CustomerName</th>\n",
       "      <th>Product</th>\n",
       "      <th>Quantity</th>\n",
       "      <th>UnitPrice</th>\n",
       "      <th>TotalSale</th>\n",
       "    </tr>\n",
       "  </thead>\n",
       "  <tbody>\n",
       "    <tr>\n",
       "      <th>0</th>\n",
       "      <td>2025-07-01</td>\n",
       "      <td>John Smith</td>\n",
       "      <td>Laptop</td>\n",
       "      <td>2</td>\n",
       "      <td>900</td>\n",
       "      <td>1800</td>\n",
       "    </tr>\n",
       "    <tr>\n",
       "      <th>1</th>\n",
       "      <td>2025-07-01</td>\n",
       "      <td>Sarah Johnson</td>\n",
       "      <td>Keyboard</td>\n",
       "      <td>5</td>\n",
       "      <td>25</td>\n",
       "      <td>125</td>\n",
       "    </tr>\n",
       "    <tr>\n",
       "      <th>2</th>\n",
       "      <td>2025-07-02</td>\n",
       "      <td>Mike Davis</td>\n",
       "      <td>Monitor</td>\n",
       "      <td>1</td>\n",
       "      <td>200</td>\n",
       "      <td>200</td>\n",
       "    </tr>\n",
       "    <tr>\n",
       "      <th>3</th>\n",
       "      <td>2025-07-02</td>\n",
       "      <td>Emma Wilson</td>\n",
       "      <td>Mouse</td>\n",
       "      <td>3</td>\n",
       "      <td>15</td>\n",
       "      <td>45</td>\n",
       "    </tr>\n",
       "    <tr>\n",
       "      <th>4</th>\n",
       "      <td>2025-07-03</td>\n",
       "      <td>Chris Brown</td>\n",
       "      <td>Headphones</td>\n",
       "      <td>2</td>\n",
       "      <td>60</td>\n",
       "      <td>120</td>\n",
       "    </tr>\n",
       "    <tr>\n",
       "      <th>5</th>\n",
       "      <td>2025-07-03</td>\n",
       "      <td>Olivia Martin</td>\n",
       "      <td>Laptop</td>\n",
       "      <td>1</td>\n",
       "      <td>900</td>\n",
       "      <td>900</td>\n",
       "    </tr>\n",
       "    <tr>\n",
       "      <th>6</th>\n",
       "      <td>2025-07-04</td>\n",
       "      <td>David Lee</td>\n",
       "      <td>Webcam</td>\n",
       "      <td>4</td>\n",
       "      <td>40</td>\n",
       "      <td>160</td>\n",
       "    </tr>\n",
       "    <tr>\n",
       "      <th>7</th>\n",
       "      <td>2025-07-04</td>\n",
       "      <td>Sophia Taylor</td>\n",
       "      <td>Keyboard</td>\n",
       "      <td>2</td>\n",
       "      <td>25</td>\n",
       "      <td>50</td>\n",
       "    </tr>\n",
       "    <tr>\n",
       "      <th>8</th>\n",
       "      <td>2025-07-05</td>\n",
       "      <td>James Anderson</td>\n",
       "      <td>Monitor</td>\n",
       "      <td>2</td>\n",
       "      <td>200</td>\n",
       "      <td>400</td>\n",
       "    </tr>\n",
       "    <tr>\n",
       "      <th>9</th>\n",
       "      <td>2025-07-05</td>\n",
       "      <td>Ava Thomas</td>\n",
       "      <td>Mouse</td>\n",
       "      <td>5</td>\n",
       "      <td>15</td>\n",
       "      <td>75</td>\n",
       "    </tr>\n",
       "  </tbody>\n",
       "</table>\n",
       "</div>"
      ],
      "text/plain": [
       "     SaleDate    CustomerName     Product  Quantity  UnitPrice  TotalSale\n",
       "0  2025-07-01      John Smith      Laptop         2        900       1800\n",
       "1  2025-07-01   Sarah Johnson    Keyboard         5         25        125\n",
       "2  2025-07-02      Mike Davis     Monitor         1        200        200\n",
       "3  2025-07-02     Emma Wilson       Mouse         3         15         45\n",
       "4  2025-07-03     Chris Brown  Headphones         2         60        120\n",
       "5  2025-07-03   Olivia Martin      Laptop         1        900        900\n",
       "6  2025-07-04       David Lee      Webcam         4         40        160\n",
       "7  2025-07-04   Sophia Taylor    Keyboard         2         25         50\n",
       "8  2025-07-05  James Anderson     Monitor         2        200        400\n",
       "9  2025-07-05      Ava Thomas       Mouse         5         15         75"
      ]
     },
     "execution_count": 60,
     "metadata": {},
     "output_type": "execute_result"
    }
   ],
   "source": [
    "query = \"select * from sales\"\n",
    "df=pd.read_sql(query,conn)\n",
    "df.head(10)"
   ]
  },
  {
   "cell_type": "markdown",
   "id": "40c5322c-5784-415e-a0f3-6451e6fb403f",
   "metadata": {},
   "source": [
    "# Data Analysis Using SQL Query"
   ]
  },
  {
   "cell_type": "code",
   "execution_count": 67,
   "id": "9ef7d007-2166-4652-8bd4-d52e6b55588b",
   "metadata": {},
   "outputs": [
    {
     "data": {
      "text/html": [
       "<div>\n",
       "<style scoped>\n",
       "    .dataframe tbody tr th:only-of-type {\n",
       "        vertical-align: middle;\n",
       "    }\n",
       "\n",
       "    .dataframe tbody tr th {\n",
       "        vertical-align: top;\n",
       "    }\n",
       "\n",
       "    .dataframe thead th {\n",
       "        text-align: right;\n",
       "    }\n",
       "</style>\n",
       "<table border=\"1\" class=\"dataframe\">\n",
       "  <thead>\n",
       "    <tr style=\"text-align: right;\">\n",
       "      <th></th>\n",
       "      <th>Product</th>\n",
       "      <th>Total_sale</th>\n",
       "    </tr>\n",
       "  </thead>\n",
       "  <tbody>\n",
       "    <tr>\n",
       "      <th>0</th>\n",
       "      <td>Laptop</td>\n",
       "      <td>2700</td>\n",
       "    </tr>\n",
       "    <tr>\n",
       "      <th>1</th>\n",
       "      <td>Monitor</td>\n",
       "      <td>600</td>\n",
       "    </tr>\n",
       "    <tr>\n",
       "      <th>2</th>\n",
       "      <td>Keyboard</td>\n",
       "      <td>175</td>\n",
       "    </tr>\n",
       "    <tr>\n",
       "      <th>3</th>\n",
       "      <td>Webcam</td>\n",
       "      <td>160</td>\n",
       "    </tr>\n",
       "    <tr>\n",
       "      <th>4</th>\n",
       "      <td>Mouse</td>\n",
       "      <td>120</td>\n",
       "    </tr>\n",
       "    <tr>\n",
       "      <th>5</th>\n",
       "      <td>Headphones</td>\n",
       "      <td>120</td>\n",
       "    </tr>\n",
       "  </tbody>\n",
       "</table>\n",
       "</div>"
      ],
      "text/plain": [
       "      Product  Total_sale\n",
       "0      Laptop        2700\n",
       "1     Monitor         600\n",
       "2    Keyboard         175\n",
       "3      Webcam         160\n",
       "4       Mouse         120\n",
       "5  Headphones         120"
      ]
     },
     "execution_count": 67,
     "metadata": {},
     "output_type": "execute_result"
    }
   ],
   "source": [
    "query=\"select Product, sum(TotalSale) as Total_sale from sales group by 1 order by 2 desc\"\n",
    "df=pd.read_sql(query,conn)\n",
    "df"
   ]
  },
  {
   "cell_type": "code",
   "execution_count": 71,
   "id": "26ca1620-63aa-432f-b286-b5d26f0fc570",
   "metadata": {},
   "outputs": [
    {
     "data": {
      "text/html": [
       "<div>\n",
       "<style scoped>\n",
       "    .dataframe tbody tr th:only-of-type {\n",
       "        vertical-align: middle;\n",
       "    }\n",
       "\n",
       "    .dataframe tbody tr th {\n",
       "        vertical-align: top;\n",
       "    }\n",
       "\n",
       "    .dataframe thead th {\n",
       "        text-align: right;\n",
       "    }\n",
       "</style>\n",
       "<table border=\"1\" class=\"dataframe\">\n",
       "  <thead>\n",
       "    <tr style=\"text-align: right;\">\n",
       "      <th></th>\n",
       "      <th>Product</th>\n",
       "      <th>Highest_Sales</th>\n",
       "    </tr>\n",
       "  </thead>\n",
       "  <tbody>\n",
       "    <tr>\n",
       "      <th>0</th>\n",
       "      <td>Laptop</td>\n",
       "      <td>1350.0</td>\n",
       "    </tr>\n",
       "    <tr>\n",
       "      <th>1</th>\n",
       "      <td>Monitor</td>\n",
       "      <td>300.0</td>\n",
       "    </tr>\n",
       "    <tr>\n",
       "      <th>2</th>\n",
       "      <td>Webcam</td>\n",
       "      <td>160.0</td>\n",
       "    </tr>\n",
       "    <tr>\n",
       "      <th>3</th>\n",
       "      <td>Headphones</td>\n",
       "      <td>120.0</td>\n",
       "    </tr>\n",
       "    <tr>\n",
       "      <th>4</th>\n",
       "      <td>Keyboard</td>\n",
       "      <td>87.5</td>\n",
       "    </tr>\n",
       "    <tr>\n",
       "      <th>5</th>\n",
       "      <td>Mouse</td>\n",
       "      <td>60.0</td>\n",
       "    </tr>\n",
       "  </tbody>\n",
       "</table>\n",
       "</div>"
      ],
      "text/plain": [
       "      Product  Highest_Sales\n",
       "0      Laptop         1350.0\n",
       "1     Monitor          300.0\n",
       "2      Webcam          160.0\n",
       "3  Headphones          120.0\n",
       "4    Keyboard           87.5\n",
       "5       Mouse           60.0"
      ]
     },
     "execution_count": 71,
     "metadata": {},
     "output_type": "execute_result"
    }
   ],
   "source": [
    "query=\"select Product, avg(Totalsale) as Highest_Sales from sales group by 1 order by 2 desc\"\n",
    "df=pd.read_sql(query,conn)\n",
    "df"
   ]
  },
  {
   "cell_type": "markdown",
   "id": "5996034e-e107-4498-9bed-d4d71c8ab591",
   "metadata": {},
   "source": [
    "# Visualizing SQL Query Using Python"
   ]
  },
  {
   "cell_type": "code",
   "execution_count": 90,
   "id": "2b32d3ea-f46d-4801-a633-a0a572d22129",
   "metadata": {},
   "outputs": [
    {
     "data": {
      "image/png": "[encoded data removed]",
      "text/plain": [
       "<Figure size 640x480 with 1 Axes>"
      ]
     },
     "metadata": {},
     "output_type": "display_data"
    }
   ],
   "source": [
    "query=\"select Product, sum(TotalSale) as Total_sale from sales group by 1 order by 2 desc\"\n",
    "df_sales=pd.read_sql(query,conn)\n",
    "ax=sns.barplot(x='Product',y='Total_sale',data=df_sales, palette='coolwarm')\n",
    "for bars in ax.containers:\n",
    " ax.bar_label(bars)\n",
    "plt.title(\"Total Sales by Product\")\n",
    "plt.show()"
   ]
  },
  {
   "cell_type": "code",
   "execution_count": null,
   "id": "7f16d307-b1c7-4d09-be63-a0a2f06891f4",
   "metadata": {},
   "outputs": [],
   "source": []
  }
 ],
 "metadata": {
  "kernelspec": {
   "display_name": "Python [conda env:base] *",
   "language": "python",
   "name": "conda-base-py"
  },
  "language_info": {
   "codemirror_mode": {
    "name": "ipython",
    "version": 3
   },
   "file_extension": ".py",
   "mimetype": "text/x-python",
   "name": "python",
   "nbconvert_exporter": "python",
   "pygments_lexer": "ipython3",
   "version": "3.12.7"
  }
 },
 "nbformat": 4,
 "nbformat_minor": 5
}
